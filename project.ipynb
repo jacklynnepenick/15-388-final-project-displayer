{
 "cells": [
  {
   "cell_type": "markdown",
   "metadata": {},
   "source": [
    "# Introduction\n",
    "\n",
    "Every semester, CMU students read through a long PDF file to figure out when their final exams are, manually aggregating the data to figure out when their final exams are.  Unlike the schedule viewer in SIO, it is really difficult to see the data with this user interface.  It would be much better if a user could view these in a calendar view, such as that provided by Google Calendar.\n",
    "\n",
    "To solve this problem, I have written a collection of web scrapers to automatically construct a google calendar.  This notebook gives an overview of the code used for this construction and is not intended to be executable, as my code requires access to the local filesystem, which this web host does not support.  For an executable version, please visit [my github](https://github.com/jackwpenick/cmu-finals-schedule)"
   ]
  },
  {
   "cell_type": "markdown",
   "metadata": {},
   "source": [
    "# Step 1:  Seamless import\n",
    "\n",
    "I wanted my program to be as easy-to-use as possible, and figuring out what dependencies to install is one of the pain points.  I integrated the dependencies directly into the code, so that it would automatically import any missing dependencies."
   ]
  },
  {
   "cell_type": "code",
   "execution_count": null,
   "metadata": {
    "collapsed": true
   },
   "outputs": [],
   "source": [
    "import sys\n",
    "import os\n",
    "from time import sleep\n",
    "try:\n",
    "    from ics import Calendar, Event\n",
    "    import arrow\n",
    "    from dateutil import tz\n",
    "    import shutil\n",
    "    import requests\n",
    "    import numpy as np\n",
    "    import datetime\n",
    "    from selenium import webdriver\n",
    "    from selenium.webdriver.common.by import By\n",
    "    from selenium.webdriver.support.ui import WebDriverWait\n",
    "    from selenium.webdriver.support import expected_conditions as EC\n",
    "    import PyPDF2\n",
    "except ImportError:\n",
    "    print(\"Warning: Various packages missing.  Installing...\", file=sys.stderr)\n",
    "    import subprocess\n",
    "    subprocess.call([sys.executable] + \"-m pip install ics requests numpy selenium PyPDF2\".split())\n",
    "    from ics import Calendar, Event\n",
    "    import arrow\n",
    "    from dateutil import tz\n",
    "    import shutil\n",
    "    import requests\n",
    "    import numpy as np\n",
    "    import datetime\n",
    "    from selenium import webdriver\n",
    "    from selenium.webdriver.common.by import By\n",
    "    from selenium.webdriver.support.ui import WebDriverWait\n",
    "    from selenium.webdriver.support import expected_conditions as EC\n",
    "    import PyPDF2"
   ]
  },
  {
   "cell_type": "markdown",
   "metadata": {},
   "source": [
    "Anyone who has python installed, therefore, should simply be able to run my program out-of-the-box without any extra effort given to dependencies.\n",
    "\n",
    "# Two Modalities\n",
    "\n",
    "The user can run the program in one of two ways - with no command-line arguments, which then prompts the user to login to SIO and Google Calendar; or by passing in their AndrewId and password, which it then uses to log in to both SIO and Google Calendar (it assumes that they wish to import their calendar to the Google Calendar associated with their CMU Andrew account).\n",
    "\n",
    "The distinction between these modalities is seamless.  For the first mode, one may just execute the program (simply double-click, if in Windows).  For the second mode, one runs the program via the command line with `python exam_schedule.py %USERNAME% %PASSWORD%`\n",
    "\n",
    "This is seen in the main method at the end of the script:"
   ]
  },
  {
   "cell_type": "code",
   "execution_count": null,
   "metadata": {
    "collapsed": true
   },
   "outputs": [],
   "source": [
    "if __name__ == \"__main__\":\n",
    "    if len(sys.argv) < 3:\n",
    "        course_ids, course_friendly_names = get_courses(manual_login=True)\n",
    "        exam_times = get_final_exam_times(course_ids)\n",
    "        create_ics_file(course_friendly_names, exam_times, \"./final_schedule.ics\")\n",
    "        export_google_calendar(\"./final_schedule.ics\", manual_login=True)\n",
    "    else:\n",
    "        andrew_id = sys.argv[1]\n",
    "        password = sys.argv[2]\n",
    "        course_ids, course_friendly_names = get_courses(andrew_id, password)\n",
    "        exam_times = get_final_exam_times(course_ids)\n",
    "        create_ics_file(course_friendly_names, exam_times, \"./final_schedule.ics\")\n",
    "        export_google_calendar(\"./final_schedule.ics\", andrew_id, password)"
   ]
  },
  {
   "cell_type": "markdown",
   "metadata": {},
   "source": [
    "Of course, we haven't defined the functions shown above yet, but, as you can see, the algorithm consists primarily of 4 steps.\n",
    "\n",
    "# Step 1: Determine which courses the user is taking\n",
    "\n",
    "This step involves scraping SIO, which is done via Selenium due to the inherent complexities of SSO.  The process at it's core is a simple idea: retrieve the SIO registration page, log in with supplied information (or wait for the user to login for us, if in the hands-on modality), and then extract the courses from the table on the page.  Since the table isn't well formatted (programmatically, at least), some basic filtering has to be done to exclude non-courses, and to distinguish between the official schedule and courses that the user is merely on the waitlist for or has on their planned course schedule. "
   ]
  },
  {
   "cell_type": "code",
   "execution_count": 1,
   "metadata": {
    "collapsed": true
   },
   "outputs": [],
   "source": [
    "def login_with_andrew_id(driver, andrew_id, password):\n",
    "    driver.find_element_by_id(\"j_username\").send_keys(andrew_id)\n",
    "    driver.find_element_by_id(\"j_password\").send_keys(password)\n",
    "    driver.find_elements_by_css_selector(\".loginbutton\")[0].click()\n",
    "\n",
    "def get_courses(andrew_id=\"\", password=\"\", manual_login=False):\n",
    "    \"\"\" Uses your andrew_id and password to retrieve the classes you are taking\n",
    "        \"\"\"\n",
    "\n",
    "    course_ids = []\n",
    "    course_friendly_names = {}\n",
    "    \n",
    "    driver = webdriver.Chrome()\n",
    "\n",
    "    driver.get(\"https://s3.andrew.cmu.edu/sio/\") # SSO login to here\n",
    "    if manual_login:\n",
    "        WebDriverWait(driver, 60 * 60).until(\n",
    "            EC.title_is(\"CMU Student Information Online\")\n",
    "        )\n",
    "    else:\n",
    "        login_with_andrew_id(driver, andrew_id, password)\n",
    "    driver.get(\"https://s3.andrew.cmu.edu/sio/#schedule-registration\")\n",
    "    WebDriverWait(driver, 20).until(\n",
    "        EC.element_to_be_clickable((By.ID, \"Yes\"))\n",
    "    )\n",
    "    driver.find_element_by_id(\"Yes\").click()\n",
    "    table = driver.find_element_by_xpath(\n",
    "        \"//div[contains(text(),'Official Schedule')]/../../../\" +\n",
    "        \"div[contains(@class, 'portlet-body')]/div/table/tbody\"\n",
    "    )\n",
    "    rows = table.find_elements_by_tag_name(\"tr\")\n",
    "    for row in rows:\n",
    "        cell = row.find_elements_by_tag_name(\"td\")[0]\n",
    "        if cell.text.strip() == \"TITLE / NUMBER & SECTION\" or \\\n",
    "                cell.text.strip() == \"TOTAL UNITS:\":\n",
    "            continue\n",
    "        else:\n",
    "            course_ids += [(\n",
    "                cell.text.strip().split()[-2],\n",
    "                cell.text.strip().split()[-1],\n",
    "            )]\n",
    "            course_friendly_names[cell.text.strip().split()[-2]] = \\\n",
    "                \" \".join(cell.text.strip().split()[:-2])\n",
    "    return course_ids, course_friendly_names\n"
   ]
  },
  {
   "cell_type": "markdown",
   "metadata": {},
   "source": [
    "# Step 2: Extract final exam times from the PDF\n",
    "\n",
    "This is by far the most difficult step.  PDF files are rather complicated, and allow for many strange formatters.  The overall idea behind this is that:\n",
    "\n",
    "1.  The extractText function in the PyPDF2 function should output something similar to the order in which the data appears.  It will at least put the exam time and date after the course number.  \n",
    "2.  Dates start with a day of week\n",
    "3.  Times include either an \"a.m.\" or \"p.m.\" designation\n",
    "4.  We assume that whatever happens immidiately after both the date and the time is the location, which is a little unreasonable, but there isn't much that can be done in the way of pattern matching (e.g. some room numbers don't contain numbers, and are widely inconsistent).\n",
    "\n",
    "This manifests itself as the following code:"
   ]
  },
  {
   "cell_type": "code",
   "execution_count": 2,
   "metadata": {
    "collapsed": true
   },
   "outputs": [],
   "source": [
    "def get_final_exam_times(course_ids):\n",
    "    res = {}\n",
    "    r = requests.get(\"https://www.cmu.edu/hub/docs/final-exams.pdf\", stream=True)\n",
    "    r.raw.decode_content = True\n",
    "    with open(\"./final_schedule.pdf\", \"wb\") as f:\n",
    "        shutil.copyfileobj(r.raw, f)\n",
    "    pdf = PyPDF2.PdfFileReader(\"./final_schedule.pdf\")\n",
    "    collected_lines = {}\n",
    "    for i in range(pdf.getNumPages()):\n",
    "        anticipate_number = None\n",
    "        anticipate_section = None\n",
    "        seen_section = False\n",
    "        assume_next_is_room = False\n",
    "        for line in pdf.getPage(i).extractText().splitlines():\n",
    "            if anticipate_number is None:\n",
    "                for course_number, section_id in course_ids:\n",
    "                    if anticipate_number is None and course_number == line.strip():\n",
    "                        anticipate_number = course_number\n",
    "                        anticipate_section = section_id\n",
    "            elif not seen_section:\n",
    "                if anticipate_section == line:\n",
    "                    seen_section = True\n",
    "            elif line.strip().startswith(\n",
    "                    (\"Monday\", \"Tuesday\", \"Wednesday\", \n",
    "                     \"Thursday\", \"Friday\", \"Saturday\", \"Sunday\")):\n",
    "                collected_lines[anticipate_number, anticipate_section, \"date\"] = line.strip()\n",
    "                if (anticipate_number, anticipate_section, \"time\") in collected_lines:\n",
    "                    assume_next_is_room = True # no real way to make a regex or anything for this\n",
    "            elif line.strip().endswith((\"p.m.\",\"a.m.\")):\n",
    "                collected_lines[anticipate_number, anticipate_section, \"time\"] = line.strip()\n",
    "                if (anticipate_number, anticipate_section, \"date\") in collected_lines:\n",
    "                    assume_next_is_room = True # no real way to make a regex or anything for this\n",
    "            elif assume_next_is_room:\n",
    "                collected_lines[anticipate_number, anticipate_section, \"room\"] = line.strip()\n",
    "                assume_next_is_room = False\n",
    "                anticipate_number = None\n",
    "                anticipate_section = None\n",
    "                seen_section = False\n",
    "    absent_course_numbers = []\n",
    "    for course_number, section_id in course_ids:\n",
    "        if course_number in res:\n",
    "            continue \n",
    "            # SIO has multiple entries, lecture number and section number.  \n",
    "            # Expect exactly one of these to correspond to a final exam time entry\n",
    "        try:\n",
    "            date = collected_lines[course_number, section_id, \"date\"]\n",
    "            time = collected_lines[course_number, section_id, \"time\"]\n",
    "            room = collected_lines[course_number, section_id, \"room\"]\n",
    "        except KeyError:\n",
    "            absent_course_numbers += [course_numbers]\n",
    "            continue\n",
    "        first_time, second_time = time.split(\" - \")[0], time.split(\" - \")[1]\n",
    "        first_time = first_time[:-3] + \"m\" # replace a.m. with am and p.\n",
    "        second_time = second_time[:-3] + \"m\" # replace a.m. with am and p.\n",
    "        res[course_number] = (\n",
    "            datetime.datetime.strptime(\n",
    "                    date + \" \" + first_time, \"%A, %B %d, %Y %I:%M %p\"\n",
    "                ),\n",
    "            datetime.datetime.strptime(\n",
    "                    date + \" \" + second_time, \"%A, %B %d, %Y %I:%M %p\"\n",
    "                ),\n",
    "            section_id,\n",
    "            room\n",
    "        )\n",
    "    absent_course_numbers = [\n",
    "        course_number for course_number in absent_course_numbers\n",
    "        if course_number not in res # ya know, multiple entries and shit\n",
    "    ]\n",
    "    if len(absent_course_numbers) != 0:\n",
    "        print(\n",
    "            \"Warning: could not find final exam times for courses: %s\" % \n",
    "                \",\".join(absent_course_numbers),\n",
    "            file=sys.stderr\n",
    "        )\n",
    "    return res"
   ]
  },
  {
   "cell_type": "markdown",
   "metadata": {},
   "source": [
    "# Step 3: Import into an ICS file.\n",
    "\n",
    "By far the easiest step, as there is a library to do this."
   ]
  },
  {
   "cell_type": "code",
   "execution_count": null,
   "metadata": {
    "collapsed": true
   },
   "outputs": [],
   "source": [
    "def create_ics_file(course_friendly_names, exam_times, path):\n",
    "    c = Calendar()\n",
    "    for course_number in exam_times:\n",
    "        dt_begin, dt_end, section, room = exam_times[course_number]\n",
    "        e = Event(\n",
    "            name=\"%s %s Final Exam\" % (course_number, section),\n",
    "            location=room,\n",
    "            description=\"Final Exam for %s\" % (course_friendly_names[course_number])\n",
    "        )\n",
    "        e.begin = arrow.get(dt_begin, tz.gettz('US/Eastern'))\n",
    "        e.end = arrow.get(dt_end, tz.gettz('US/Eastern'))\n",
    "        c.events.append(e)\n",
    "    with open(path, \"w\") as f:\n",
    "        f.writelines(c)"
   ]
  },
  {
   "cell_type": "markdown",
   "metadata": {},
   "source": [
    "# Step 4: Export into Google Calendar\n",
    "\n",
    "For this step one would think that I would use the google calendar API.  However, this requires whoever is using the program to have an API key, which would hurt usability (I would like this program to be usable by someone with 0 programming knowledge and very little computer expertise).\n",
    "\n",
    "Therefore, I again used Selenium for this process.  This code looks a lot like the \"figuring out which classes we're taking\" step, though a bit more involved, as it involves a more complex login and filling out forms."
   ]
  },
  {
   "cell_type": "code",
   "execution_count": null,
   "metadata": {
    "collapsed": true
   },
   "outputs": [],
   "source": [
    "def export_google_calendar(ics_filename, andrew_id=\"\", password=\"\", manual_login=False):\n",
    "    driver = webdriver.Chrome()\n",
    "    driver.get(\"https://calendar.google.com/\")\n",
    "    def patient_find_el_by_xpath_clk(path):\n",
    "        WebDriverWait(driver, 30).until(EC.element_to_be_clickable((By.XPATH, path)))\n",
    "        return driver.find_element_by_xpath(path)\n",
    "    def patient_find_el_by_xpath(path):\n",
    "        WebDriverWait(driver, 30).until(EC.presence_of_element_located((By.XPATH, path)))\n",
    "        return driver.find_element_by_xpath(path)\n",
    "    if manual_login:\n",
    "        WebDriverWait(driver, 60 * 60).until(\n",
    "            EC.url_contains(\"accounts.google.com\")\n",
    "        )\n",
    "        WebDriverWait(driver, 60 * 60).until_not(\n",
    "            EC.url_contains(\"accounts.google.com\")\n",
    "        )\n",
    "        WebDriverWait(driver, 60 * 60).until(\n",
    "            EC.url_contains(\"calendar.google.com\")\n",
    "        )\n",
    "    else:\n",
    "        patient_find_el_by_xpath('//input[@type=\"email\"][@name=\"identifier\"]') \\\n",
    "            .send_keys(andrew_id + \"@andrew.cmu.edu\")\n",
    "        patient_find_el_by_xpath(\n",
    "            '//div[@role=\"button\"][./content/span[contains(text(), \"Next\")]]'\n",
    "        ).click()\n",
    "        WebDriverWait(driver, 10).until(\n",
    "            EC.url_contains(\"login.cmu.edu\")\n",
    "        )\n",
    "        login_with_andrew_id(driver, andrew_id, password)\n",
    "    # Create Final Exam Schedule Calendar\n",
    "    driver.get(\"https://calendar.google.com/calendar/b/1/r/settings/createcalendar\")\n",
    "    patient_find_el_by_xpath('//input[@type=\"text\"][@aria-label=\"Name\"]').send_keys(\"Final Exam Schedule\")\n",
    "    patient_find_el_by_xpath('//textarea[@aria-label=\"Description\"]').send_keys(\"Auto-Generated by CMU Final Exam Schedule Google Calendar Improrter.\")\n",
    "    patient_find_el_by_xpath('//div[@role=\"button\"][./content/span[contains(text(), \"Create\")]]').click()\n",
    "\n",
    "    sleep(10)\n",
    "\n",
    "\n",
    "    # Import it!\n",
    "    driver.get(\"https://calendar.google.com/calendar/b/1/r/settings/export\")\n",
    "    patient_find_el_by_xpath('//input[@type=\"file\"][@name=\"filename\"]').send_keys(os.path.abspath(ics_filename))\n",
    "    patient_find_el_by_xpath_clk('//div[@role=\"listbox\"][@aria-label=\"Add to calendar\"]').click()\n",
    "    patient_find_el_by_xpath_clk('//div[@role=\"option\"][@aria-label=\"Final Exam Schedule\"]').click()\n",
    "    patient_find_el_by_xpath_clk('//div[@role=\"button\"][./content/span[contains(text(), \"Import\")]]').click()\n"
   ]
  },
  {
   "cell_type": "markdown",
   "metadata": {},
   "source": [
    "# Conclusion\n",
    "\n",
    "Each step in isolation is not too complicated, just some simple web-scraping and data munging.  However, in collection, the code is a useful program that allows one to view their final exam schedule in google calendar with little difficulty."
   ]
  }
 ],
 "metadata": {
  "kernelspec": {
   "display_name": "Python 3",
   "language": "python",
   "name": "python3"
  },
  "language_info": {
   "codemirror_mode": {
    "name": "ipython",
    "version": 3
   },
   "file_extension": ".py",
   "mimetype": "text/x-python",
   "name": "python",
   "nbconvert_exporter": "python",
   "pygments_lexer": "ipython3",
   "version": "3.6.3"
  }
 },
 "nbformat": 4,
 "nbformat_minor": 2
}
